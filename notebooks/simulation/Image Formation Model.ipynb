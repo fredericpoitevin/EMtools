{
 "cells": [
  {
   "cell_type": "markdown",
   "metadata": {},
   "source": [
    "![microscope architecture](material/architecture.png)\n",
    "\n",
    "### before the specimen\n",
    "Let's assume that the wave function of an electron can be written as $\\psi(\\mathbf{r},t) = A(\\mathbf{r})\\ B(t)$ and assuming stationarity we will be mainly concerned with the electron wave $A$. The time-dependent factor $B(t) = \\exp{-i\\omega t}$ of the wave function has time-frequency $\\omega = \\frac{\\hbar k^{2}}{2m}$, where $m$ is the relativistic mass of the electron. \n",
    "\n",
    "As it leaves the condenser lens system, we assume the incident electron to be a monochromatic plane wave $A_{\\text{incident}}(\\mathbf{r}) = \\exp{ik\\mathbf{r}.\\mathbf{u}_{z}}$ where $k=\\frac{2\\pi}{\\lambda}$ is the electron spatial frequency. \n",
    "\n",
    "### at the specimen\n",
    "As it goes through the specimen, the electron beam will be affected by the specimen electrostatic potential. We assume however that this interaction only affects the phase of the wave, not its amplitude. On a plane immediately after the specimen, the electron wave for the electron thus becomes $A_{\\text{scattered}}(\\mathbf{r}) = A_{\\text{incident}}(z)\\exp{i\\phi(x,y)}$. In general, we assume the phase to be weak, which allows to Taylor expand and truncate to first-order: $A_{\\text{scattered}}(\\mathbf{r}) = A_{\\text{incident}}(z)\\big(1 + i\\phi(x,y)\\big)$.\n",
    "\n",
    "### going through the objective and projective lens systems\n",
    "At the back focal plane of the objective lens system - the image plane - we should retrieve $A_{\\text{scattered}}(\\mathbf{r})$, and if the detector plane coincides with the image plane, the same wave should hit the detector where it would be detected as a signal proportional to $|[A_{\\text{scattered}}(\\mathbf{r})|^{2}$. \n",
    "\n",
    "Yet several factors will affect the actual measurement. First, the wave will be convolved by the aperture of the objective lens system. Second, the various lens of the objective and projector lens systems are not perfect and result in spherical aberration. Furthermore, coherent imaging assumes elastic scattering of a coherent illumination. Partial incoherences need to be accounted for: (i) inelastic scattering and absorption by the specimen add an imaginary component to its electrostatic potential, (ii) the electron source is not a point-source and emits a beam that is not perfectly spatially coherent, and (iii) the energy of the electron emitted is not rigorously constant, resulting in partial temporal incoherence. \n",
    "\n",
    "Altogether, these effects result in a point-spread function convolved with the ideal scattered wave: $A_{\\text{detector}} = PSF\\ast A_{\\text{scattered}}$. The Fourier transform of the PSF is the contrast transfer function (CTF). An important observation at this point is that the effect of the CTF modulates the resulting signal at the detector, emphasizing certain frequencies with respect to other that are dimmed. To compensate the effect of this complex band-pass filter, a common strategy consists in collecting a dataset over a range of defocus values: the defocus $\\Delta z$ is the shift introduced between the image plane and the detector plane. This effectively further modulates the resulting CTF.\n",
    "\n",
    "### reaching the detector\n",
    "At the detector, the wave function of the scattered electron localizes and the resulting intensity at each point of the detector is formally $I(\\mathbf{r}) = |[A_{\\text{detector}}(\\mathbf{r})|^{2}$. During read-outs, several electrons might have reached the detector, the local dose of which we note $c(\\mathbf{r})$. Detectors are discrete grids and the received signal is integrated over small pixels $U$. The expected number of electrons detected at each pixel $ij$ of area $A_{ij}$ is thus $\\mathrm{E}(N_{ij}) = \\int_{U}d\\mathbf{r}\\ c(\\mathbf{r})\\ I(\\mathbf{r}) \\approx A_{ij}\\ C_{ij}\\ I_{ij}$ and the electron shot noise is modelled as a Poisson distribution so that the random measure at the pixel is $m_{ij} = P\\big(\\mathrm{E}(N_{ij})\\big)$. Reasonably assuming that the pixel area and dose is translationally invariant, and noting $n$ their product, $m_{ij} = n \\ P\\big(I_{ij}\\big)$. In the limit of zero shot-noise: $m_{ij}^{(\\text{noise-free})} = n I_{ij}$.\n",
    "\n",
    "While $m$ is the expected measure, the response $R$ of the detector is usually not entirely efficient and is modelled as an inverse Gaussian distribution $IG(m,\\sigma)$ with shape parameter $\\sigma = \\frac{m}{C_{\\text{DQE}}-1}$, where we note $C_{\\text{DQE}}$ the detector quantum efficiency. Further noting $C_{\\text{gain}}$ the detector gain, the detector response at pixel $ij$ is $R_{ij} = C_{\\text{gain}}\\ IG(m_{ij},\\sigma_{ij})$.\n",
    "\n",
    "Finally, the detector itself convolves the signal to some extent so the actual measurememt $M$ is a blurred version of $R$: \n",
    "$$M_{ij} = \\sum_{kl} PSF_{ij - kl}\\ R_{kl}\\ \\rightarrow\\text{Fourier Transform: }\\tilde{M}_{ij} = \\text{MTF}_{ij}\\ \\tilde{R}_{ij}$$"
   ]
  },
  {
   "cell_type": "markdown",
   "metadata": {},
   "source": [
    "# Appendix"
   ]
  },
  {
   "cell_type": "markdown",
   "metadata": {},
   "source": [
    "## Details in the image formation model\n",
    "\n",
    "### Projections\n",
    "Noting $V$ the specimen electrostatic potential, the specimen scattering potential is $F(\\mathbf{r}) = \\frac{2m}{\\hbar^{2}}eV(\\mathbf{r})$, that relates to the phase-shift as $\\phi(\\mathbf{r}) = \\frac{1}{2k}\\int_{-\\infty}^{\\infty} ds \\ F(\\mathbf{r} + s\\mathbf{u}_{z})$. Since $V$ is mostly zero everywhere except in the specimen, this reduces to $\\phi(x,y) = \\frac{em}{k\\hbar^{2}} \\int dz\\ V(x,y,z)$.\n",
    "\n",
    "### CTF\n",
    "By considering the case where there is no specimen, one get the \"dark\" wave function, and when the specimen is a point (Dirac delta function), one easily check that the resulting wave function is the (normalized) PSF added to the \"dark\".\n",
    "![microscope architecture](material/PSF.jpg)\n",
    "\n",
    "The full expression for the CTF is\n",
    "\n",
    "$$CTF(\\mathbf{q}) = F_{CTF}(q)\\ e^{i\\phi_{CTF}(q)}\\\\\n",
    "\\text{where}\\ F_{CTF}(q) = F_{\\text{aperture}}(q)\\ F_{\\text{incoherence}}(q)\\\\\n",
    "\\text{and}\\ \\phi_{CTF}(q) = \\phi_{\\text{defocus}}(q) + \\phi_{\\text{aberration}}(q)$$\n",
    "\n",
    "that depends on the following parameters:\n",
    "- $b = kd_{\\text{aperture}}/ fp$ with fp the focal length of the primary lens, and $d_{\\text{aperture}}$ the physical diameter of its aperture.\n",
    "- $C_{s}$: spherical aberration\n",
    "- $\\alpha_{C}$: aperture angle of the beam after the condenser lens\n",
    "- $\\Delta E$: mean energy spread of the beam\n",
    "- $C_{\\text{chromatic}}$ chromatic aberration"
   ]
  },
  {
   "cell_type": "markdown",
   "metadata": {},
   "source": [
    "# References\n",
    "- Rullgard (2011)"
   ]
  },
  {
   "cell_type": "code",
   "execution_count": null,
   "metadata": {},
   "outputs": [],
   "source": []
  }
 ],
 "metadata": {
  "kernelspec": {
   "display_name": "Python 3",
   "language": "python",
   "name": "python3"
  },
  "language_info": {
   "codemirror_mode": {
    "name": "ipython",
    "version": 3
   },
   "file_extension": ".py",
   "mimetype": "text/x-python",
   "name": "python",
   "nbconvert_exporter": "python",
   "pygments_lexer": "ipython3",
   "version": "3.6.3"
  }
 },
 "nbformat": 4,
 "nbformat_minor": 2
}
