{
 "cells": [
  {
   "cell_type": "code",
   "execution_count": 1,
   "metadata": {},
   "outputs": [],
   "source": [
    "import sys\n",
    "sys.path.append('../src/')"
   ]
  },
  {
   "cell_type": "code",
   "execution_count": 2,
   "metadata": {
    "scrolled": true
   },
   "outputs": [],
   "source": [
    "%matplotlib inline\n",
    "import numpy as np\n",
    "from matplotlib import pyplot as plt\n",
    "import mrcutils\n",
    "#help(mrcutils)"
   ]
  },
  {
   "cell_type": "markdown",
   "metadata": {},
   "source": [
    "### 1. split mrcs in set of mrc files"
   ]
  },
  {
   "cell_type": "code",
   "execution_count": 3,
   "metadata": {},
   "outputs": [],
   "source": [
    "mrcs_dir='/Users/fpoitevi/gdrive/cryoEM/Projects/2016-rib70s-F20/data/RawData/Nov10-2016/'\n",
    "mrcskey ='70S_apo_11102016_stack0001_movie'\n",
    "mrcsname=mrcskey+'.mrcs'\n",
    "mrcsfile=mrcs_dir+mrcsname"
   ]
  },
  {
   "cell_type": "code",
   "execution_count": null,
   "metadata": {},
   "outputs": [],
   "source": [
    "! source activate eman-env; `which e2proc2d.py` $mrcsfile $mrcsname --unstacking ; conda deactivate"
   ]
  },
  {
   "cell_type": "code",
   "execution_count": null,
   "metadata": {},
   "outputs": [],
   "source": [
    "! for mrcs in *.mrcs; do mv $mrcs tmp/${mrcs%.*}.mrc ; done"
   ]
  },
  {
   "cell_type": "code",
   "execution_count": null,
   "metadata": {},
   "outputs": [],
   "source": [
    "#! ls *"
   ]
  },
  {
   "cell_type": "markdown",
   "metadata": {},
   "source": [
    "### 2. load in array"
   ]
  },
  {
   "cell_type": "code",
   "execution_count": 4,
   "metadata": {
    "scrolled": true
   },
   "outputs": [
    {
     "name": "stdout",
     "output_type": "stream",
     "text": [
      "Image size:  (3838, 3710)\n",
      "Image size:  (3838, 3710)\n",
      "Image size:  (3838, 3710)\n",
      "Image size:  (3838, 3710)\n",
      "Image size:  (3838, 3710)\n",
      "Image size:  (3838, 3710)\n",
      "Image size:  (3838, 3710)\n",
      "Image size:  (3838, 3710)\n",
      "Image size:  (3838, 3710)\n",
      "Image size:  (3838, 3710)\n",
      "Image size:  (3838, 3710)\n",
      "Image size:  (3838, 3710)\n",
      "Image size:  (3838, 3710)\n",
      "Image size:  (3838, 3710)\n",
      "Image size:  (3838, 3710)\n",
      "Image size:  (3838, 3710)\n",
      "Image size:  (3838, 3710)\n",
      "Image size:  (3838, 3710)\n",
      "Image size:  (3838, 3710)\n",
      "Image size:  (3838, 3710)\n",
      "Image size:  (3838, 3710)\n",
      "Image size:  (3838, 3710)\n",
      "Image size:  (3838, 3710)\n",
      "Image size:  (3838, 3710)\n",
      "Image size:  (3838, 3710)\n",
      "Image size:  (3838, 3710)\n",
      "Image size:  (3838, 3710)\n",
      "Image size:  (3838, 3710)\n",
      "Image size:  (3838, 3710)\n",
      "Image size:  (3838, 3710)\n",
      "Image size:  (3838, 3710)\n",
      "Image size:  (3838, 3710)\n",
      "Image size:  (3838, 3710)\n",
      "Image size:  (3838, 3710)\n",
      "Image size:  (3838, 3710)\n",
      "Image size:  (3838, 3710)\n",
      "Image size:  (3838, 3710)\n",
      "Image size:  (3838, 3710)\n",
      "Image size:  (3838, 3710)\n",
      "Image size:  (3838, 3710)\n",
      "Image size:  (3838, 3710)\n",
      "Image size:  (3838, 3710)\n",
      "Image size:  (3838, 3710)\n",
      "Image size:  (3838, 3710)\n",
      "Image size:  (3838, 3710)\n",
      "Image size:  (3838, 3710)\n",
      "Image size:  (3838, 3710)\n",
      "Image size:  (3838, 3710)\n",
      "Image size:  (3838, 3710)\n",
      "Image size:  (3838, 3710)\n",
      "Image size:  (3838, 3710)\n",
      "Image size:  (3838, 3710)\n",
      "Image size:  (3838, 3710)\n",
      "Image size:  (3838, 3710)\n",
      "Image size:  (3838, 3710)\n",
      "Image size:  (3838, 3710)\n",
      "Image size:  (3838, 3710)\n",
      "Image size:  (3838, 3710)\n",
      "Image size:  (3838, 3710)\n",
      "Image size:  (3838, 3710)\n",
      "Image size:  (3838, 3710)\n",
      "Image size:  (3838, 3710)\n",
      "Image size:  (3838, 3710)\n",
      "Image size:  (3838, 3710)\n",
      "Image size:  (3838, 3710)\n",
      "Image size:  (3838, 3710)\n",
      "Image size:  (3838, 3710)\n",
      "Image size:  (3838, 3710)\n",
      "Image size:  (3838, 3710)\n",
      "Image size:  (3838, 3710)\n",
      "Image size:  (3838, 3710)\n",
      "Image size:  (3838, 3710)\n",
      "Image size:  (3838, 3710)\n",
      "Image size:  (3838, 3710)\n",
      "Image size:  (3838, 3710)\n",
      "Image size:  (3838, 3710)\n",
      "Image size:  (3838, 3710)\n",
      "Image size:  (3838, 3710)\n",
      "Image size:  (3838, 3710)\n",
      "Image size:  (3838, 3710)\n",
      "Image size:  (3838, 3710)\n",
      "Image size:  (3838, 3710)\n",
      "Image size:  (3838, 3710)\n",
      "Image size:  (3838, 3710)\n",
      "Image size:  (3838, 3710)\n",
      "Image size:  (3838, 3710)\n",
      "Image size:  (3838, 3710)\n",
      "Image size:  (3838, 3710)\n",
      "Image size:  (3838, 3710)\n",
      "Image size:  (3838, 3710)\n",
      "Image size:  (3838, 3710)\n",
      "Image size:  (3838, 3710)\n",
      "Image size:  (3838, 3710)\n",
      "Image size:  (3838, 3710)\n",
      "Image size:  (3838, 3710)\n",
      "Image size:  (3838, 3710)\n",
      "Image size:  (3838, 3710)\n",
      "Image size:  (3838, 3710)\n",
      "Image size:  (3838, 3710)\n",
      "Image size:  (3838, 3710)\n"
     ]
    }
   ],
   "source": [
    "nframe=50\n",
    "for iframe in np.arange(nframe):\n",
    "    mrcfile='./tmp/'+mrcskey+'-'+str(iframe+1).zfill(2)+'.mrc'\n",
    "    #print(mrcfile)\n",
    "    if iframe == 0:\n",
    "        frame = mrcutils.mrc2array(mrcfile)\n",
    "    else:\n",
    "        frame = np.append(frame, mrcutils.mrc2array(mrcfile), axis=0)\n",
    "data = frame.reshape(nframe,int(frame.shape[0]/nframe),frame.shape[1])"
   ]
  },
  {
   "cell_type": "code",
   "execution_count": 5,
   "metadata": {},
   "outputs": [],
   "source": [
    "data = data[:,0:np.minimum(data.shape[1],data.shape[2]),0:np.minimum(data.shape[1],data.shape[2])]"
   ]
  },
  {
   "cell_type": "code",
   "execution_count": 6,
   "metadata": {},
   "outputs": [
    {
     "data": {
      "text/plain": [
       "(50, 3710, 3710)"
      ]
     },
     "execution_count": 6,
     "metadata": {},
     "output_type": "execute_result"
    }
   ],
   "source": [
    "data.shape"
   ]
  },
  {
   "cell_type": "markdown",
   "metadata": {},
   "source": [
    "### 3. Now for some fun"
   ]
  },
  {
   "cell_type": "code",
   "execution_count": 7,
   "metadata": {},
   "outputs": [],
   "source": [
    "data_min  = np.amin(data,axis=0)\n",
    "data_mean = np.mean(data,axis=0)\n",
    "data_std  = np.std(data,axis=0)\n",
    "data_max  = np.amax(data,axis=0)"
   ]
  },
  {
   "cell_type": "code",
   "execution_count": 8,
   "metadata": {},
   "outputs": [],
   "source": [
    "list_data = (data_min,data_mean,data_std,data_max)\n",
    "list_mrc  = ('tmp/min.mrc','tmp/mean.mrc','tmp/std.mrc','tmp/max.mrc')"
   ]
  },
  {
   "cell_type": "code",
   "execution_count": 9,
   "metadata": {
    "scrolled": false
   },
   "outputs": [
    {
     "name": "stdout",
     "output_type": "stream",
     "text": [
      "... about to write  tmp/min.mrc\n",
      "... about to write  tmp/mean.mrc\n",
      "... about to write  tmp/std.mrc\n",
      "... about to write  tmp/max.mrc\n"
     ]
    }
   ],
   "source": [
    "for dat, mrc in zip(list_data, list_mrc):\n",
    "    mrcutils.create_mrc(mrcfile_out=mrc,signal_data=dat,noise_data=dat)\n",
    "#fig = plt.figure(figsize=(12,12),dpi=360)\n",
    "#plt.imshow(data_max)\n",
    "#plt.colorbar()"
   ]
  },
  {
   "cell_type": "code",
   "execution_count": 10,
   "metadata": {},
   "outputs": [
    {
     "data": {
      "text/plain": [
       "(3, 3710, 3710)"
      ]
     },
     "execution_count": 10,
     "metadata": {},
     "output_type": "execute_result"
    }
   ],
   "source": [
    "data_slice = np.zeros((3,data.shape[1],data.shape[2]))\n",
    "for i in np.arange(3):\n",
    "    data_slice[i,...] = np.mean(data[i:48:3,...],axis=0)\n",
    "data_slice.shape"
   ]
  },
  {
   "cell_type": "code",
   "execution_count": 11,
   "metadata": {},
   "outputs": [],
   "source": [
    "data_slice_min = np.amin(data_slice,axis=0)"
   ]
  },
  {
   "cell_type": "code",
   "execution_count": 12,
   "metadata": {},
   "outputs": [
    {
     "name": "stdout",
     "output_type": "stream",
     "text": [
      "... about to write  ./tmp/slice.mrc\n"
     ]
    }
   ],
   "source": [
    "mrcutils.create_mrc(mrcfile_out='./tmp/slice.mrc',signal_data=data_slice_min,noise_data=data_slice_min)"
   ]
  },
  {
   "cell_type": "code",
   "execution_count": 13,
   "metadata": {},
   "outputs": [],
   "source": [
    "diff = data_mean - data_slice_min"
   ]
  },
  {
   "cell_type": "code",
   "execution_count": 14,
   "metadata": {},
   "outputs": [
    {
     "name": "stdout",
     "output_type": "stream",
     "text": [
      "... about to write  ./tmp/diff.mrc\n"
     ]
    }
   ],
   "source": [
    "mrcutils.create_mrc(mrcfile_out='./tmp/diff.mrc',signal_data=diff,noise_data=diff)"
   ]
  },
  {
   "cell_type": "code",
   "execution_count": 15,
   "metadata": {},
   "outputs": [],
   "source": [
    "diff_psd = mrcutils.psd(diff)"
   ]
  },
  {
   "cell_type": "code",
   "execution_count": 16,
   "metadata": {},
   "outputs": [
    {
     "name": "stdout",
     "output_type": "stream",
     "text": [
      "... about to write  ./tmp/diff_psd.mrc\n"
     ]
    }
   ],
   "source": [
    "mrcutils.create_mrc(mrcfile_out='./tmp/diff_psd.mrc',signal_data=diff_psd,noise_data=diff_psd)"
   ]
  },
  {
   "cell_type": "code",
   "execution_count": 17,
   "metadata": {},
   "outputs": [],
   "source": [
    "data_slice_min_psd = mrcutils.psd(data_slice_min)"
   ]
  },
  {
   "cell_type": "code",
   "execution_count": 18,
   "metadata": {},
   "outputs": [
    {
     "name": "stdout",
     "output_type": "stream",
     "text": [
      "... about to write  ./tmp/slice_psd.mrc\n"
     ]
    }
   ],
   "source": [
    "mrcutils.create_mrc(mrcfile_out='./tmp/slice_psd.mrc',signal_data=data_slice_min_psd,noise_data=data_slice_min_psd)"
   ]
  },
  {
   "cell_type": "code",
   "execution_count": 19,
   "metadata": {},
   "outputs": [],
   "source": [
    "data_mean_psd = mrcutils.psd(data_mean)"
   ]
  },
  {
   "cell_type": "code",
   "execution_count": 20,
   "metadata": {},
   "outputs": [
    {
     "name": "stdout",
     "output_type": "stream",
     "text": [
      "... about to write  ./tmp/mean_psd.mrc\n"
     ]
    }
   ],
   "source": [
    "mrcutils.create_mrc(mrcfile_out='./tmp/mean_psd.mrc',signal_data=data_mean_psd,noise_data=data_mean_psd)"
   ]
  },
  {
   "cell_type": "markdown",
   "metadata": {},
   "source": [
    "### prepare CTF"
   ]
  },
  {
   "cell_type": "code",
   "execution_count": 21,
   "metadata": {},
   "outputs": [],
   "source": [
    "keyword='diff'\n",
    "ctf_input = './tmp/'+keyword+'.in'\n",
    "mrcin     = './'+keyword+'.mrc'\n",
    "ctffile   = './'+keyword+'_ctf.mrc'\n",
    "mrcutils.prepare_ctffind(ctf_input,mrcin=mrcin,mrcout=ctffile)"
   ]
  },
  {
   "cell_type": "code",
   "execution_count": null,
   "metadata": {},
   "outputs": [],
   "source": []
  }
 ],
 "metadata": {
  "kernelspec": {
   "display_name": "Python 3",
   "language": "python",
   "name": "python3"
  },
  "language_info": {
   "codemirror_mode": {
    "name": "ipython",
    "version": 3
   },
   "file_extension": ".py",
   "mimetype": "text/x-python",
   "name": "python",
   "nbconvert_exporter": "python",
   "pygments_lexer": "ipython3",
   "version": "3.6.3"
  }
 },
 "nbformat": 4,
 "nbformat_minor": 2
}
