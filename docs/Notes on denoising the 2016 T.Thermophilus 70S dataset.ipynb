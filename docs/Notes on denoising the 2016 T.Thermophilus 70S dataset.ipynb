{
 "cells": [
  {
   "cell_type": "markdown",
   "metadata": {},
   "source": [
    "# Install\n",
    "\n",
    "on Sherlock, we clone our git repo in `~/Toolkit/EM-devel`\n",
    "```bash\n",
    "cd ~/Toolkit/EM-devel/aspire/aspire\n",
    "sdev\n",
    "ml matlab\n",
    "ml gcc/4.9.1\n",
    "matlab -nodesktop -nosplash -r \"run initpath.m; run install.m\"\n",
    "```\n",
    "\n",
    "# Test run\n",
    "\n",
    "Working dir: `/scratch/users/fpoitevi/cryoem/i_denoising/run1`\n",
    "Launching script `process.sh`:\n",
    "```bash\n",
    "#!/bin/bash\n",
    "#SBATCH --job-name=denoise\n",
    "#SBATCH --output=denoise.%j.out\n",
    "#SBATCH --error=denoise.%j.err\n",
    "#SBATCH --time=8:00:00\n",
    "##SBATCH --qos=long\n",
    "#SBATCH -p bigmem\n",
    "#SBATCH --nodes=1\n",
    "#SBATCH -c 32\n",
    "ml matlab\n",
    "srun matlab -nodesktop -nosplash -r \"run raw_data_process_script_ww.m\"\n",
    "```\n",
    "\n"
   ]
  },
  {
   "cell_type": "code",
   "execution_count": null,
   "metadata": {
    "collapsed": true
   },
   "outputs": [],
   "source": []
  }
 ],
 "metadata": {
  "kernelspec": {
   "display_name": "Python 3",
   "language": "python",
   "name": "python3"
  },
  "language_info": {
   "codemirror_mode": {
    "name": "ipython",
    "version": 3
   },
   "file_extension": ".py",
   "mimetype": "text/x-python",
   "name": "python",
   "nbconvert_exporter": "python",
   "pygments_lexer": "ipython3",
   "version": "3.6.1"
  }
 },
 "nbformat": 4,
 "nbformat_minor": 2
}
