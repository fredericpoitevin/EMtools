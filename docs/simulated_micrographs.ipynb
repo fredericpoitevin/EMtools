{
 "cells": [
  {
   "cell_type": "code",
   "execution_count": 1,
   "metadata": {},
   "outputs": [],
   "source": [
    "%matplotlib inline\n",
    "import os\n",
    "import numpy as np\n",
    "from matplotlib import pyplot as plt\n",
    "#\n",
    "wd = os.getcwd()     # save current working directory\n",
    "os.chdir('../src')   # change to directory containing our tools \n",
    "import simutils      # import necessary tools\n",
    "import emio\n",
    "os.chdir(wd)         # change back to directory containing sub.py"
   ]
  },
  {
   "cell_type": "code",
   "execution_count": 2,
   "metadata": {},
   "outputs": [],
   "source": [
    "simulator_bin='~/gdrive_perso/Toolkit/Microscope_Simulator/TEM-simulator_1.3/src/TEM-simulator'"
   ]
  },
  {
   "cell_type": "markdown",
   "metadata": {},
   "source": [
    "# Parameters"
   ]
  },
  {
   "cell_type": "code",
   "execution_count": 3,
   "metadata": {},
   "outputs": [
    {
     "name": "stdout",
     "output_type": "stream",
     "text": [
      "Maximum dimension of the molecule: 40 nm\n",
      "Grid of 200 molecules that cover the volume: -424 nm --> 424 nm (step size: 60 nm)\n"
     ]
    }
   ],
   "source": [
    "# Information about the molecular model\n",
    "pdbdir   = 'pdbs/' # relative path to directory containing candidate PDB fiels\n",
    "pdb      = '4v6x'  # ID of PDB file found in pdbdir\n",
    "pdb_file = pdbdir+pdb+'.pdb'\n",
    "# Information about the volume imaged\n",
    "sample_dimensions = [1200,50,50] # [nm] diameter, thickness at center, thickness at edge.\n",
    "# Information about the beam\n",
    "electron_dose     = 1000           # [e/nm**2] dose per image\n",
    "# Optimize the coverage of volume imaged with repeats of the molecular model\n",
    "xy_range, numpart = simutils.define_grid(sample_dimensions,pdb_file=pdb_file,Dmax=40)\n",
    "#\n",
    "mrcdir = 'simulated_micrographs/'"
   ]
  },
  {
   "cell_type": "markdown",
   "metadata": {},
   "source": [
    "# Generator"
   ]
  },
  {
   "cell_type": "code",
   "execution_count": 4,
   "metadata": {},
   "outputs": [],
   "source": [
    "#help(simutils.fill_parameters_dictionary)"
   ]
  },
  {
   "cell_type": "code",
   "execution_count": 6,
   "metadata": {},
   "outputs": [
    {
     "name": "stdout",
     "output_type": "stream",
     "text": [
      "simulated_micrographs/4v6x_copy1.txt already exists.\n"
     ]
    }
   ],
   "source": [
    "for defoc in np.arange(2,2.5,0.5):\n",
    "        pdb_file, mrc_file, crd_file, log_file, inp_file = emio.simio(pdbdir, pdb, pdb+'_copy1',\n",
    "                                                                    mrcdir, pdb+'_defoc'+str(defoc))\n",
    "        params_dictionary = simutils.fill_parameters_dictionary(mrc_file = mrc_file, \n",
    "                                                                pdb_file = pdb_file, voxel_size = 0.025, particle_mrcout = mrc_file, \n",
    "                                                                crd_file = crd_file, sample_dimensions = sample_dimensions,\n",
    "                                                                dose = electron_dose, defocus = defoc, noise = 'no',\n",
    "                                                                log_file = log_file)\n",
    "        simutils.write_crd_file(numpart, xrange = xy_range, yrange = xy_range, crd_file = crd_file)\n",
    "        simutils.write_inp_file(inp_file = inp_file, dict_params = params_dictionary)\n",
    "        os.system('{0} {1}'.format(simulator_bin, inp_file))\n",
    "        "
   ]
  },
  {
   "cell_type": "code",
   "execution_count": null,
   "metadata": {},
   "outputs": [],
   "source": []
  },
  {
   "cell_type": "code",
   "execution_count": null,
   "metadata": {},
   "outputs": [],
   "source": []
  },
  {
   "cell_type": "code",
   "execution_count": null,
   "metadata": {},
   "outputs": [],
   "source": []
  }
 ],
 "metadata": {
  "kernelspec": {
   "display_name": "Python 3",
   "language": "python",
   "name": "python3"
  },
  "language_info": {
   "codemirror_mode": {
    "name": "ipython",
    "version": 3
   },
   "file_extension": ".py",
   "mimetype": "text/x-python",
   "name": "python",
   "nbconvert_exporter": "python",
   "pygments_lexer": "ipython3",
   "version": "3.6.3"
  }
 },
 "nbformat": 4,
 "nbformat_minor": 2
}
