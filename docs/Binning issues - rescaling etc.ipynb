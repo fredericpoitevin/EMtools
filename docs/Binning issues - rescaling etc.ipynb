{
 "cells": [
  {
   "cell_type": "markdown",
   "metadata": {},
   "source": [
    "# re-binning a 3D map"
   ]
  },
  {
   "cell_type": "markdown",
   "metadata": {},
   "source": [
    "## input map"
   ]
  },
  {
   "cell_type": "code",
   "execution_count": 1,
   "metadata": {},
   "outputs": [],
   "source": [
    "jobdir='/Users/fpoitevi/gdrive/cryoEM/Projects/20181005-rib-TEM4/processing/bodymaker'\n",
    "map_input='3drefine_ct26_class001_bin3.mrc'"
   ]
  },
  {
   "cell_type": "markdown",
   "metadata": {},
   "source": [
    "#### case 1: you know the following information"
   ]
  },
  {
   "cell_type": "code",
   "execution_count": 5,
   "metadata": {},
   "outputs": [],
   "source": [
    "bin_input = 3\n",
    "Nx_input  = 180\n",
    "Ny_input  = 180\n",
    "Nz_input  = 180\n",
    "px_input  = 2.052"
   ]
  },
  {
   "cell_type": "markdown",
   "metadata": {},
   "source": [
    "#### case 2: you don't"
   ]
  },
  {
   "cell_type": "code",
   "execution_count": 4,
   "metadata": {},
   "outputs": [
    {
     "name": "stdout",
     "output_type": "stream",
     "text": [
      "++++ LDFLAGS=\n",
      "++++ LDFLAGS=\n",
      "++++ CXXFLAGS=\n",
      "++++ set +x\n",
      "3drefine_ct26_class001_bin3.mrc  is not a recognized image format\n"
     ]
    }
   ],
   "source": [
    "! source activate eman-env; `which e2iminfo.py` $map_input; conda deactivate"
   ]
  },
  {
   "cell_type": "markdown",
   "metadata": {},
   "source": [
    "## output map\n",
    "adapted from info gathered from this [link](https://groups.google.com/forum/#!topic/eman2/WQLQVe8OGrs)"
   ]
  },
  {
   "cell_type": "code",
   "execution_count": null,
   "metadata": {},
   "outputs": [],
   "source": [
    "! source activate eman-env; `which e2proc3d.py` $mrc_input $mrc_output --clip=$Nx,$Ny,$Nz --scale=$scale ; conda deactivate\n"
   ]
  },
  {
   "cell_type": "markdown",
   "metadata": {},
   "source": [
    "## with relion\n",
    "see this [link](http://molecularart.dk/2015/11/cryo-em-how-to-change-box-size-and-pixel-size/)"
   ]
  },
  {
   "cell_type": "code",
   "execution_count": null,
   "metadata": {},
   "outputs": [],
   "source": [
    "import os\n",
    "def rescale_map(mapin=None,N=(1,1,1),mapout='rescaled.mrc',tool='eman'):\n",
    "    \"\"\"rescale_map\n",
    "    \"\"\"\n",
    "    if(mapin is not None):\n",
    "        "
   ]
  },
  {
   "cell_type": "code",
   "execution_count": null,
   "metadata": {},
   "outputs": [],
   "source": [
    "rescale_map(mapin='test')"
   ]
  }
 ],
 "metadata": {
  "kernelspec": {
   "display_name": "Python 3",
   "language": "python",
   "name": "python3"
  },
  "language_info": {
   "codemirror_mode": {
    "name": "ipython",
    "version": 3
   },
   "file_extension": ".py",
   "mimetype": "text/x-python",
   "name": "python",
   "nbconvert_exporter": "python",
   "pygments_lexer": "ipython3",
   "version": "3.6.3"
  }
 },
 "nbformat": 4,
 "nbformat_minor": 2
}
