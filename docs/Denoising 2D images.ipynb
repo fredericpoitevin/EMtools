{
 "cells": [
  {
   "cell_type": "markdown",
   "metadata": {},
   "source": [
    "# Install\n",
    "\n",
    "on Sherlock, we clone our git repo in `~/Toolkit/EMtools`\n",
    "```bash\n",
    "cd ~/Toolkit/EMtools/aspire/\n",
    "ln -s polarch-Spherical-Harmonic-Transform-4f4cf39 SHT\n",
    "ln -s ASPIREv0.13 aspire\n",
    "cd aspire\n",
    "sdev\n",
    "ml matlab\n",
    "ml gcc/4.9.1\n",
    "matlab -nodesktop -nosplash -r \"run initpath.m; run install.m\"\n",
    "```\n",
    "\n",
    "# Test run\n",
    "\n",
    "Working dir: `/scratch/users/fpoitevi/cryoem/i_denoising/run_test`\n",
    "\n",
    "Make sure `process.m` is here and edited accordingly. An example can be found in `aspire/scripts_matlab`.\n",
    "\n",
    "Launching script `launch.slurm`:\n",
    "```bash\n",
    "#!/bin/bash\n",
    "#SBATCH --job-name=denoise\n",
    "#SBATCH --output=denoise.%j.out\n",
    "#SBATCH --error=denoise.%j.err\n",
    "#SBATCH --time=8:00:00\n",
    "##SBATCH --qos=long\n",
    "##SBATCH -p bigmem\n",
    "#SBATCH --nodes=1\n",
    "#SBATCH -c 16\n",
    "ml matlab\n",
    "srun matlab -nodesktop -nosplash -r \"run process.m\"\n",
    "```\n",
    "\n"
   ]
  },
  {
   "cell_type": "code",
   "execution_count": null,
   "metadata": {
    "collapsed": true
   },
   "outputs": [],
   "source": []
  }
 ],
 "metadata": {
  "kernelspec": {
   "display_name": "Python 3",
   "language": "python",
   "name": "python3"
  },
  "language_info": {
   "codemirror_mode": {
    "name": "ipython",
    "version": 3
   },
   "file_extension": ".py",
   "mimetype": "text/x-python",
   "name": "python",
   "nbconvert_exporter": "python",
   "pygments_lexer": "ipython3",
   "version": "3.6.3"
  }
 },
 "nbformat": 4,
 "nbformat_minor": 2
}
