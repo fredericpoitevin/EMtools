{
 "cells": [
  {
   "cell_type": "markdown",
   "metadata": {},
   "source": [
    "### Libraries and definitions"
   ]
  },
  {
   "cell_type": "code",
   "execution_count": 1,
   "metadata": {},
   "outputs": [],
   "source": [
    "%matplotlib inline\n",
    "import shutil, os, sys\n",
    "from prody import *\n",
    "from pylab import *\n",
    "from matplotlib import pyplot as plt\n",
    "import numpy as np\n",
    "import mrcfile\n",
    "from scipy.ndimage import gaussian_filter"
   ]
  },
  {
   "cell_type": "code",
   "execution_count": 2,
   "metadata": {},
   "outputs": [
    {
     "name": "stdout",
     "output_type": "stream",
     "text": [
      "++++ LDFLAGS=\r\n",
      "++++ LDFLAGS=\r\n",
      "++++ CXXFLAGS=\r\n",
      "++++ set +x\r\n"
     ]
    }
   ],
   "source": [
    "!source activate eman-env"
   ]
  },
  {
   "cell_type": "code",
   "execution_count": 3,
   "metadata": {},
   "outputs": [],
   "source": [
    "chimera_bin='/Applications/Chimera.app/Contents/MacOS/chimera'"
   ]
  },
  {
   "cell_type": "markdown",
   "metadata": {},
   "source": [
    "# LocalResDomains\n",
    "Here we segment the local resolution map into domains."
   ]
  },
  {
   "cell_type": "markdown",
   "metadata": {},
   "source": [
    "## using Segger\n",
    "See following [link](http://plato.cgl.ucsf.edu/pipermail/chimera-users/2014-January/009553.html) for some info about how to proceed. The Segger python tools can be found here: `/Applications/Chimera.app/Contents/Resources/share/Segger`.\n",
    "\n",
    "It is hosted at [SLAC](https://cryoem.slac.stanford.edu/ncmi/resources/software/segger)"
   ]
  },
  {
   "cell_type": "markdown",
   "metadata": {},
   "source": [
    "Update this script with the more up-to-date one in diffmap"
   ]
  },
  {
   "cell_type": "code",
   "execution_count": null,
   "metadata": {},
   "outputs": [],
   "source": [
    "# directories\n",
    "input_dir = '/Users/fpoitevi/gdrive/cryoEM/Projects/20181005-rib-TEM4/processing/LocalRes/refine_bin6'\n",
    "body_dir  = '/Users/fpoitevi/gdrive/cryoEM/Projects/20181005-rib-TEM4/processing/bodymaker'\n",
    "bin_dir   = 'automated_bodies'\n",
    "# files\n",
    "mrc2segpy   = bin_dir+'/mrc2seg.py'\n",
    "input_mrc   = input_dir+'/relion_locres_filtered.mrc'\n",
    "output_seg  = body_dir+'/segments.mrc'\n",
    "output_mask = body_dir+'/bodies_bin6_'\n",
    "# parameters\n",
    "mrc_sdLevel = 1\n",
    "segger_nsteps   = 4\n",
    "segger_stepsize = 2\n",
    "segger_minregionsize = 1\n",
    "segger_mincontactsize = 0\n",
    "mask_blur   = 2.0\n"
   ]
  },
  {
   "cell_type": "code",
   "execution_count": null,
   "metadata": {},
   "outputs": [],
   "source": [
    "! /Applications/Chimera.app/Contents/MacOS/chimera --script \"$mrc2segpy $input_mrc $output_seg $mrc_sdLevel $segger_nsteps $segger_stepsize $segger_minregionsize $segger_mincontactsize\""
   ]
  },
  {
   "cell_type": "code",
   "execution_count": null,
   "metadata": {},
   "outputs": [],
   "source": [
    "mrc = mrcfile.open(output_seg, mode='r+')\n",
    "segments = mrc.data\n",
    "mrc.close()\n",
    "domains = np.unique(segments).astype(int)\n",
    "if (domains.shape[0] > 1):\n",
    "    for i in domains:\n",
    "        if(i>0):\n",
    "            mask = np.where(segments == i, 1.0 , 0.0 ) #.astype(np.int8)\n",
    "            mask = gaussian_filter(mask,sigma = mask_blur)\n",
    "            mask = np.where(mask > 0.1, 1.0 , 0.0 ).astype(np.int8)\n",
    "            shutil.copy(output_seg, output_mask+str(i)+'.mrc')\n",
    "            mrc = mrcfile.open(output_mask+str(i)+'.mrc', mode='r+')\n",
    "            mrc.data[:] = mask\n",
    "            mrc.close()\n",
    "#"
   ]
  },
  {
   "cell_type": "markdown",
   "metadata": {},
   "source": [
    "## using diffmap\n",
    "\n",
    "see following [link](http://topf-group.ismb.lon.ac.uk/chimera_diffmap.py) for source of script"
   ]
  },
  {
   "cell_type": "code",
   "execution_count": 20,
   "metadata": {},
   "outputs": [],
   "source": [
    "input_dir = '/Users/fpoitevi/gdrive/cryoEM/Projects/20181005-rib-TEM4/processing/LocalRes/bin4_of_bin6_mb_A'\n",
    "body_dir  = '/Users/fpoitevi/gdrive/cryoEM/Projects/20181005-rib-TEM4/processing/bodymaker'\n",
    "bin_dir   = 'automated_bodies'\n",
    "# files\n",
    "keyword='bodies_bin4_of_bin6_mb_A_new_'\n",
    "mrc2diffpy   = bin_dir+'/mrc2diff.py'\n",
    "mrc2segpy    = bin_dir+'/mrc2seg.py'\n",
    "input_mrc    = input_dir+'/relion_locres_filtered.mrc'\n",
    "output_mrc   = body_dir+'/'+keyword+'diff.mrc'\n",
    "output_seg   = body_dir+'/'+keyword+'seg.mrc'\n",
    "output_mask  = body_dir+'/'+keyword\n",
    "# parameters\n",
    "std_lo = 1\n",
    "std_hi = 3\n",
    "sigma_lopass = 4\n",
    "presegger_sdLevel  = 3\n",
    "segger_nsteps   = 4\n",
    "segger_stepsize = 2\n",
    "segger_minregionsize = 100\n",
    "segger_mincontactsize = 5\n",
    "mask_blur = 2.0\n",
    "#"
   ]
  },
  {
   "cell_type": "code",
   "execution_count": 21,
   "metadata": {},
   "outputs": [],
   "source": [
    "data = mrc2data(input_mrc)\n",
    "# get std of input map\n",
    "input_std = np.std(data)\n",
    "# get maps at two different thresholds\n",
    "data_fat =  mrc_select(input_mrc, mode='above_value', value=std_lo*input_std)\n",
    "data_dry =  mrc_select(input_mrc, mode='above_value', value=std_hi*input_std)\n",
    "# low-pass filter the difference\n",
    "data_diff = gaussian_filter(data_fat-data_dry, sigma=sigma_lopass)\n",
    "# write\n",
    "data2mrc(output_mrc, data_diff, mrc_template=input_mrc)"
   ]
  },
  {
   "cell_type": "code",
   "execution_count": 22,
   "metadata": {},
   "outputs": [],
   "source": [
    "# segment\n",
    "! $chimera_bin --script \"$mrc2segpy $output_mrc $output_seg $presegger_sdLevel $segger_nsteps $segger_stepsize $segger_minregionsize $segger_mincontactsize\""
   ]
  },
  {
   "cell_type": "code",
   "execution_count": 23,
   "metadata": {},
   "outputs": [],
   "source": [
    "# break down: one mask per segment\n",
    "seg2mask(output_seg, output_mask, sigma_blur = mask_blur)"
   ]
  },
  {
   "cell_type": "code",
   "execution_count": 23,
   "metadata": {},
   "outputs": [],
   "source": [
    "# manually decide which domain to keep\n",
    "keep_mask   = np.array([True,False,False,True,False,True])"
   ]
  },
  {
   "cell_type": "code",
   "execution_count": 24,
   "metadata": {},
   "outputs": [
    {
     "name": "stdout",
     "output_type": "stream",
     "text": [
      "keeping  3  domains\n"
     ]
    }
   ],
   "source": [
    "# copy the ones we keep, and delete old\n",
    "nkeep = seg2kept(output_seg, output_mask, keep_mask)"
   ]
  },
  {
   "cell_type": "code",
   "execution_count": 25,
   "metadata": {},
   "outputs": [],
   "source": [
    "# build mask of core domain\n",
    "mask = data2mask(data_dry, sigma_blur = mask_blur)\n",
    "data2mrc(output_mask+'kept_0.mrc',mask,mrc_template=input_mrc)"
   ]
  },
  {
   "cell_type": "code",
   "execution_count": 26,
   "metadata": {},
   "outputs": [],
   "source": [
    "# now apply a gaussian filter to soften the edges\n",
    "for ikeep in np.arange(nkeep+1):\n",
    "    mask = mrc2data(output_mask+'kept_'+str(ikeep)+'.mrc')\n",
    "    mask_soft = data2mask(mask, sigma_blur = mask_blur) #gaussian_filter(mask, mask_blur)\n",
    "    data2mrc(output_mask+str(ikeep)+'.mrc',mask_soft,mrc_template=output_mask+'kept_'+str(ikeep)+'.mrc')\n",
    "    os.remove(output_mask+'kept_'+str(ikeep)+'.mrc')"
   ]
  },
  {
   "cell_type": "code",
   "execution_count": 4,
   "metadata": {},
   "outputs": [],
   "source": [
    "# routines on manipulation of mrc data\n",
    "\n",
    "def mrc_stats(mrc_filename, get='std'):\n",
    "    \"\"\" mrcstats\n",
    "    \"\"\"\n",
    "    data = mrc2data(mrc_filename)\n",
    "    mean = np.mean(data)\n",
    "    if(get=='mean'):\n",
    "        value = mean\n",
    "    elif(get=='std'):\n",
    "        value = np.std(data-mean)\n",
    "    elif(get=='min'):\n",
    "        value = np.min(data)\n",
    "    elif(get=='max'):\n",
    "        value = np.max(data)\n",
    "    return value\n",
    "\n",
    "def mrc_algebra(mrc1,mrc2,mrc_out,operation='add'):\n",
    "    \"\"\"mrc_algebra: mrc_out = mrc1 operation mrc2\n",
    "    \"\"\"\n",
    "    data1 = mrc2data(mrc1)\n",
    "    data2 = mrc2data(mrc2)\n",
    "    if(operation=='add'):\n",
    "        data = data1 + data2\n",
    "    elif(operation=='subtract'):\n",
    "        data = data1 - data2\n",
    "    data2mrc(mrc_out,data,mrc_template=mrc1)\n",
    "        \n",
    "def mrc_select(mrc_filename, mode='above_value', value=0.):\n",
    "    \"\"\"mrc_select\n",
    "    \"\"\"\n",
    "    data = mrc2data(mrc_filename)\n",
    "    if(mode=='above_value'):\n",
    "        data_selected = np.where(data >  value, data, 0.0)\n",
    "    elif(mode=='equal_value'):\n",
    "        data_selected = np.where(data == value, data, 0.0)\n",
    "    else:\n",
    "        data_selected = np.where(data <  value, data, 0.0)\n",
    "    return data_selected\n",
    "        \n",
    "# routines mrc2bla or bla2mrc\n",
    "    \n",
    "def mrc2mask(mrc_filename, mask_filename, sigma_blur=0., threshold=0.1):\n",
    "    \"\"\" mrc2mask: set to 1 any non-zero value, blurs, and binarize around threshold\n",
    "    \"\"\"\n",
    "    data = mrc2data(mrc_filename)\n",
    "    mask = data2mask(data, sigma_blur=sigma_blur, threshold=threshold)\n",
    "    data2mrc(mask_filename, mask, mrc_template=mrc_filename)\n",
    "\n",
    "def seg2mask(input_seg, output_key, sigma_blur = 0., threshold=0.1):\n",
    "    \"\"\"seg2mask\n",
    "    \"\"\"\n",
    "    segments = mrc2data(input_seg)\n",
    "    domains  = np.unique(segments).astype(int)\n",
    "    if (domains.shape[0] > 1):\n",
    "        for i in domains:\n",
    "            if(i>0):\n",
    "                data_domain = mrc_select(input_seg, mode='equal_value', value=i)\n",
    "                mask = data2mask(data_domain, sigma_blur=sigma_blur, threshold=threshold)\n",
    "                data2mrc(output_key+str(i)+'.mrc', mask, mrc_template=input_seg)\n",
    "\n",
    "def seg2kept(input_seg, output_key, keep_mask):\n",
    "    \"\"\"seg2kep\n",
    "    \"\"\"\n",
    "    ikeep=0\n",
    "    segments = mrc2data(input_seg)\n",
    "    domains  = np.unique(segments).astype(int)\n",
    "    if (domains.shape[0] > 1):\n",
    "        for i in domains:\n",
    "            if(i>0):\n",
    "                if keep_mask[i-1]:\n",
    "                    ikeep += 1\n",
    "                    shutil.copy(output_key+str(i)+'.mrc',output_key+'kept_'+str(ikeep)+'.mrc')\n",
    "                os.remove(output_key+str(i)+'.mrc')\n",
    "    print(\"keeping \",ikeep,\" domains\")\n",
    "    return ikeep\n",
    "                \n",
    "def data2mask(data, sigma_blur=0., threshold=0.1):\n",
    "    \"\"\"data2mask\n",
    "    \"\"\"\n",
    "    mask = np.where(data > 0, 1.0, 0.0)\n",
    "    if(sigma_blur > 0):\n",
    "        mask = gaussian_filter(mask, sigma_blur)\n",
    "        mask = np.where(mask > threshold, 1.0 , 0.0 ) #.astype(np.int8)\n",
    "    return mask.astype(np.int8)\n",
    "    \n",
    "def mrc2data(mrc_filename):\n",
    "    \"\"\" mrc2data\n",
    "    \"\"\"\n",
    "    mrc  = mrcfile.open(mrc_filename, mode='r+')\n",
    "    data = mrc.data\n",
    "    mrc.close()\n",
    "    return data\n",
    "\n",
    "def data2mrc(mrc_filename,data,mrc_template=None):\n",
    "    \"\"\" data2mrc\n",
    "    \"\"\"\n",
    "    if mrc_template is None:\n",
    "        print(\"Please provide a .mrc template to update data from\")\n",
    "    else:\n",
    "        shutil.copy(mrc_template, mrc_filename)\n",
    "        mrc = mrcfile.open(mrc_filename, mode='r+')\n",
    "        mrc.data[:] = data\n",
    "        mrc.close()"
   ]
  },
  {
   "cell_type": "code",
   "execution_count": null,
   "metadata": {},
   "outputs": [],
   "source": []
  },
  {
   "cell_type": "code",
   "execution_count": null,
   "metadata": {},
   "outputs": [],
   "source": [
    "# OBSOLETE (but keep for now)\n",
    "input_dir = '/Users/fpoitevi/gdrive/cryoEM/Projects/20181005-rib-TEM4/processing/LocalRes/bin4_of_bin6_mb_A'\n",
    "body_dir  = '/Users/fpoitevi/gdrive/cryoEM/Projects/20181005-rib-TEM4/processing/bodymaker'\n",
    "bin_dir   = 'automated_bodies'\n",
    "# files\n",
    "keyword='bodies_bin4_of_bin6_mb_A_'\n",
    "mrc2diffpy   = bin_dir+'/mrc2diff.py'\n",
    "mrc2segpy    = bin_dir+'/mrc2seg.py'\n",
    "input_mrc    = input_dir+'/relion_locres_filtered.mrc'\n",
    "output_mrc   = body_dir+'/'+keyword+'diff.mrc'\n",
    "output_seg  = body_dir+'/'+keyword+'seg.mrc'\n",
    "output_mask = body_dir+'/'+keyword\n",
    "# parameters\n",
    "diff_thresh1 = 0.17\n",
    "diff_thresh2 = 0.06\n",
    "mrc_sdLevel  = 3\n",
    "segger_nsteps   = 4\n",
    "segger_stepsize = 2\n",
    "segger_minregionsize = 100\n",
    "segger_mincontactsize = 5\n",
    "mask_blur    = 2.0\n",
    "! $chimera_bin --script \"$mrc2diffpy $input_mrc $output_mrc $diff_thresh1 $diff_thresh2\"\n",
    "! $chimera_bin --script \"$mrc2segpy $output_mrc $output_seg $mrc_sdLevel $segger_nsteps $segger_stepsize $segger_minregionsize $segger_mincontactsize\"\n",
    "mrc = mrcfile.open(output_seg, mode='r+')\n",
    "segments = mrc.data\n",
    "mrc.close()\n",
    "domains = np.unique(segments).astype(int)\n",
    "if (domains.shape[0] > 1):\n",
    "    for i in domains:\n",
    "        if(i>0):\n",
    "            mask = np.where(segments == i, 1.0 , 0.0 ) #.astype(np.int8)\n",
    "            mask = gaussian_filter(mask,sigma = mask_blur)\n",
    "            mask = np.where(mask > 0.1, 1.0 , 0.0 ).astype(np.int8)\n",
    "            shutil.copy(output_seg, output_mask+str(i)+'.mrc')\n",
    "            mrc = mrcfile.open(output_mask+str(i)+'.mrc', mode='r+')\n",
    "            mrc.data[:] = mask\n",
    "            mrc.close()\n",
    "#\n",
    "keep_mask   = np.array([False,True,True,False,False,True])\n",
    "#\n",
    "ikeep=0\n",
    "if (domains.shape[0] > 1):\n",
    "    for i in domains:\n",
    "        if(i>0):\n",
    "            if keep_mask[i-1]:\n",
    "                ikeep += 1\n",
    "                shutil.copy(output_mask+str(i)+'.mrc',output_mask+'keep_'+str(ikeep)+'.mrc')\n",
    "                "
   ]
  },
  {
   "cell_type": "markdown",
   "metadata": {},
   "source": [
    "# MapNMA\n",
    "Here we fill the postprocess map with beads, that are used to build an elastic network model whose normal modes are used to define a fluctuation matrix. Clustering this matrix yields the domains."
   ]
  },
  {
   "cell_type": "code",
   "execution_count": null,
   "metadata": {},
   "outputs": [],
   "source": [
    "jobdir='automated_bodies'\n",
    "input_map='/Users/fpoitevi/gdrive/cryoEM/Projects/2016-rib70s-F20/processing/PostProcess/job041/postprocess_masked.mrc'\n",
    "threshold=0.02\n",
    "reduction_level=3\n",
    "n_modes=1\n",
    "prefix=jobdir+'/test'"
   ]
  },
  {
   "cell_type": "markdown",
   "metadata": {},
   "source": [
    "### map to pdb"
   ]
  },
  {
   "cell_type": "code",
   "execution_count": null,
   "metadata": {},
   "outputs": [],
   "source": [
    "!em2dam $input_map -t $threshold -p $prefix -r $reduction_level"
   ]
  },
  {
   "cell_type": "code",
   "execution_count": null,
   "metadata": {},
   "outputs": [],
   "source": [
    "!ls $jobdir/*"
   ]
  },
  {
   "cell_type": "markdown",
   "metadata": {},
   "source": [
    "### pdb to covariance matrix"
   ]
  },
  {
   "cell_type": "code",
   "execution_count": null,
   "metadata": {},
   "outputs": [],
   "source": [
    "pdb_data = parsePDB(prefix+'.pdb')\n",
    "calphas = pdb_data.select('protein and name CA')"
   ]
  },
  {
   "cell_type": "code",
   "execution_count": null,
   "metadata": {},
   "outputs": [],
   "source": [
    "anm = ANM('bodies test ANM analysis')\n",
    "anm.buildHessian(calphas,cutoff=30)\n",
    "anm.calcModes(n_modes=n_modes)\n",
    "writeNMD(prefix+'.nmd', anm[:10], calphas)"
   ]
  },
  {
   "cell_type": "code",
   "execution_count": null,
   "metadata": {},
   "outputs": [],
   "source": [
    "covar = anm.getCovariance()"
   ]
  },
  {
   "cell_type": "code",
   "execution_count": null,
   "metadata": {},
   "outputs": [],
   "source": [
    "fig = plt.figure(figsize=(4,4),dpi=180)\n",
    "plt.imshow(covar,cmap='seismic')\n",
    "plt.colorbar()\n",
    "plt.tight_layout()"
   ]
  },
  {
   "cell_type": "code",
   "execution_count": null,
   "metadata": {},
   "outputs": [],
   "source": [
    "coords = calphas.getCoords()\n",
    "coords.shape"
   ]
  },
  {
   "cell_type": "markdown",
   "metadata": {},
   "source": [
    "### covariance (+coords) to domain decomposition"
   ]
  },
  {
   "cell_type": "markdown",
   "metadata": {},
   "source": [
    "We build the similarity matrix $\\sigma$ as follows.\n",
    "\n",
    "From the structure $\\mathbf{X}_{i=1,N}$, we computed the covariance matrix $\\mathbf{C}_{i\\alpha,j\\beta}=<X_{i\\alpha}X_{j\\beta}>$. \n",
    "\n",
    "We are now interested in computing the similarity matrix $\\sigma_{ij}^{2}\\ =\\ <(d_{ij}-<d_{ij}>)^{2}>\\ =\\ <d_{ij}^{2}> - <d_{ij}>^{2}$\n",
    "\n",
    "$<d_{ij}^{2}> = \\sum_{\\alpha}C_{i\\alpha,i\\alpha} + \\sum_{\\alpha}C_{j\\alpha,j\\alpha} - 2\\sum_{\\alpha}C_{i\\alpha,j\\alpha}$\n",
    "\n",
    "$<d_{ij}>^{2} = \\sum_{\\alpha}(X_{j\\alpha}-X_{i\\alpha})^{2}$"
   ]
  },
  {
   "cell_type": "code",
   "execution_count": null,
   "metadata": {},
   "outputs": [],
   "source": [
    "def pdb2simil(pdb_filename,n_modes=1,writenmd=False):\n",
    "    \"\"\"pdb2simil: from structure to similarity matrix\n",
    "    \"\"\"\n",
    "    # load PDB file\n",
    "    pdb_data = parsePDB(pdb_filename)\n",
    "    calphas = pdb_data.select('protein and name CA')\n",
    "    # get coordinates\n",
    "    coords = calphas.getCoords()\n",
    "    # get covariance matrix\n",
    "    anm = ANM('bodies test ANM analysis')\n",
    "    anm.buildHessian(calphas,cutoff=30)\n",
    "    anm.calcModes(n_modes=n_modes)\n",
    "    if(writenmd):\n",
    "        writeNMD(prefix+'.nmd', anm[:10], calphas)\n",
    "    covar = anm.getCovariance()\n",
    "    #"
   ]
  },
  {
   "cell_type": "markdown",
   "metadata": {},
   "source": [
    "### domain decomposition to body definition"
   ]
  }
 ],
 "metadata": {
  "kernelspec": {
   "display_name": "Python 3",
   "language": "python",
   "name": "python3"
  },
  "language_info": {
   "codemirror_mode": {
    "name": "ipython",
    "version": 3
   },
   "file_extension": ".py",
   "mimetype": "text/x-python",
   "name": "python",
   "nbconvert_exporter": "python",
   "pygments_lexer": "ipython3",
   "version": "3.6.3"
  }
 },
 "nbformat": 4,
 "nbformat_minor": 2
}
