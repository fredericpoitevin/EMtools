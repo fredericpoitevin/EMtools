{
 "cells": [
  {
   "cell_type": "code",
   "execution_count": 1,
   "metadata": {},
   "outputs": [
    {
     "name": "stdout",
     "output_type": "stream",
     "text": [
      "\r\n",
      "INFO: eman-deps activation script is making the following environmental changes:\r\n",
      "++++ LDFLAGS=\r\n",
      "++++ LDFLAGS=\r\n",
      "++++ CXXFLAGS=\r\n",
      "++++ set +x\r\n",
      "\r\n"
     ]
    }
   ],
   "source": [
    "!source activate eman-env"
   ]
  },
  {
   "cell_type": "code",
   "execution_count": 2,
   "metadata": {},
   "outputs": [
    {
     "name": "stdout",
     "output_type": "stream",
     "text": [
      "Usage: em2dam [OPTIONS] <MAP> [DAT]\r\n",
      "\r\n",
      "EM2DAM - Electron Microscopy density map to Dummy Atom Model\r\n",
      "\r\n",
      "Known Arguments:\r\n",
      "  MAP                        EM MAP file\r\n",
      "  DAT                        Experimental SAXS data (optional)\r\n",
      "\r\n",
      "Known Options:\r\n",
      "  -t, --threshold=<X>        cutoff threshold (default: minimum density)\r\n",
      "  -r, --reduction=<N>        reduction level, merges N^3 beads\r\n",
      "      --maxgraphs=<N>        maximum number of graphs in output (default: 1)\r\n",
      "      --maxbeads=<N>         maximum number of beads in output (default: 100.000)\r\n",
      "      --damstart             make output model suitable as search volume for dammin\r\n",
      "      --lm=<N>               number of spherical harmonics to use (default: 15)\r\n",
      "      --ns=<N>               number of points in scattering vector (default: 256)\r\n",
      "      --sm=<X>               maximum scattering vector (default: 0.5 A^-1)\r\n",
      "  -p, --prefix=<PREFIX>      output filename prefix (default: basename of input map)\r\n",
      "  -h, --help                 Print usage information and exit\r\n",
      "  -v, --version              Print version information and exit\r\n",
      "\r\n",
      "Mandatory arguments to long options are mandatory for short options too.\r\n",
      "\r\n",
      "Report bugs to <atsas@embl-hamburg.de>.\r\n"
     ]
    }
   ],
   "source": [
    "!em2dam -h"
   ]
  },
  {
   "cell_type": "code",
   "execution_count": null,
   "metadata": {},
   "outputs": [],
   "source": []
  }
 ],
 "metadata": {
  "kernelspec": {
   "display_name": "Python 3",
   "language": "python",
   "name": "python3"
  },
  "language_info": {
   "codemirror_mode": {
    "name": "ipython",
    "version": 3
   },
   "file_extension": ".py",
   "mimetype": "text/x-python",
   "name": "python",
   "nbconvert_exporter": "python",
   "pygments_lexer": "ipython3",
   "version": "3.6.3"
  }
 },
 "nbformat": 4,
 "nbformat_minor": 2
}
