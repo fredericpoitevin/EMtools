{
 "cells": [
  {
   "cell_type": "markdown",
   "metadata": {},
   "source": [
    "### Libraries and definitions"
   ]
  },
  {
   "cell_type": "code",
   "execution_count": 3,
   "metadata": {},
   "outputs": [],
   "source": [
    "%matplotlib inline\n",
    "import shutil, os, sys\n",
    "from prody import *\n",
    "from pylab import *\n",
    "from matplotlib import pyplot as plt\n",
    "import numpy as np\n",
    "import mrcfile\n",
    "from scipy.ndimage import gaussian_filter"
   ]
  },
  {
   "cell_type": "code",
   "execution_count": 4,
   "metadata": {},
   "outputs": [],
   "source": [
    "chimera_bin='/Applications/Chimera.app/Contents/MacOS/chimera'"
   ]
  },
  {
   "cell_type": "markdown",
   "metadata": {},
   "source": [
    "# LocalResDomains\n",
    "Here we segment the local resolution map into domains."
   ]
  },
  {
   "cell_type": "markdown",
   "metadata": {},
   "source": [
    "## using Segger\n",
    "See following [link](http://plato.cgl.ucsf.edu/pipermail/chimera-users/2014-January/009553.html) for some info about how to proceed. The Segger python tools can be found here: `/Applications/Chimera.app/Contents/Resources/share/Segger`.\n",
    "\n",
    "It is hosted at [SLAC](https://cryoem.slac.stanford.edu/ncmi/resources/software/segger)"
   ]
  },
  {
   "cell_type": "code",
   "execution_count": 8,
   "metadata": {},
   "outputs": [],
   "source": [
    "input_dir = '/Users/fpoitevi/gdrive/cryoEM/Projects/20181005-rib-TEM4/processing/LocalRes/bin2_of_bin6mb_B'\n",
    "body_dir  = '/Users/fpoitevi/gdrive/cryoEM/Projects/20181005-rib-TEM4/processing/bodymaker/bin2_of_bin6mb_B/SegOfLRM'\n",
    "bin_dir   = 'automated_bodies'\n",
    "# files\n",
    "keyword='bodies_bin2_of_bin6mb_B_'\n",
    "mrc2segpy    = bin_dir+'/mrc2seg.py'\n",
    "input_mrc    = input_dir+'/relion_locres_filtered.mrc'\n",
    "output_seg   = body_dir+'/'+keyword+'seg.mrc'\n",
    "output_mask  = body_dir+'/'+keyword\n",
    "# parameters\n",
    "mrc_sdLevel     = 0.5\n",
    "segger_nsteps   = 4\n",
    "segger_stepsize = 5\n",
    "segger_minregionsize = 100\n",
    "segger_mincontactsize = 0\n",
    "mask_blur   = 2.0"
   ]
  },
  {
   "cell_type": "code",
   "execution_count": 6,
   "metadata": {},
   "outputs": [],
   "source": [
    "! /Applications/Chimera.app/Contents/MacOS/chimera --script \"$mrc2segpy $input_mrc $output_seg $mrc_sdLevel $segger_nsteps $segger_stepsize $segger_minregionsize $segger_mincontactsize\""
   ]
  },
  {
   "cell_type": "code",
   "execution_count": 9,
   "metadata": {},
   "outputs": [],
   "source": [
    "# break down: one mask per segment\n",
    "seg2mask(output_seg, output_mask, sigma_blur = mask_blur)"
   ]
  },
  {
   "cell_type": "code",
   "execution_count": null,
   "metadata": {},
   "outputs": [],
   "source": [
    "# manually decide which domain to keep\n",
    "keep_mask   = np.array([True,False,False,True,False,True])"
   ]
  },
  {
   "cell_type": "code",
   "execution_count": null,
   "metadata": {},
   "outputs": [],
   "source": [
    "# copy the ones we keep, and delete old\n",
    "nkeep = seg2kept(output_seg, output_mask, keep_mask)"
   ]
  },
  {
   "cell_type": "code",
   "execution_count": null,
   "metadata": {},
   "outputs": [],
   "source": [
    "# build mask of core domain\n",
    "mask = data2mask(data_dry, sigma_blur = mask_blur)\n",
    "data2mrc(output_mask+'kept_0.mrc',mask,mrc_template=input_mrc)"
   ]
  },
  {
   "cell_type": "code",
   "execution_count": null,
   "metadata": {},
   "outputs": [],
   "source": [
    "# now apply a gaussian filter to soften the edges\n",
    "for ikeep in np.arange(nkeep+1):\n",
    "    mask = mrc2data(output_mask+'kept_'+str(ikeep)+'.mrc')\n",
    "    mask_soft = data2mask(mask, sigma_blur = mask_blur) #gaussian_filter(mask, mask_blur)\n",
    "    data2mrc(output_mask+str(ikeep)+'.mrc',mask_soft,mrc_template=output_mask+'kept_'+str(ikeep)+'.mrc')\n",
    "    os.remove(output_mask+'kept_'+str(ikeep)+'.mrc')"
   ]
  },
  {
   "cell_type": "markdown",
   "metadata": {},
   "source": [
    "# Toolkit"
   ]
  },
  {
   "cell_type": "code",
   "execution_count": 2,
   "metadata": {},
   "outputs": [],
   "source": [
    "# routines on manipulation of mrc data\n",
    "\n",
    "def mrc_stats(mrc_filename, get='std'):\n",
    "    \"\"\" mrcstats\n",
    "    \"\"\"\n",
    "    data = mrc2data(mrc_filename)\n",
    "    mean = np.mean(data)\n",
    "    if(get=='mean'):\n",
    "        value = mean\n",
    "    elif(get=='std'):\n",
    "        value = np.std(data-mean)\n",
    "    elif(get=='min'):\n",
    "        value = np.min(data)\n",
    "    elif(get=='max'):\n",
    "        value = np.max(data)\n",
    "    return value\n",
    "\n",
    "def mrc_algebra(mrc1,mrc2,mrc_out,operation='add'):\n",
    "    \"\"\"mrc_algebra: mrc_out = mrc1 operation mrc2\n",
    "    \"\"\"\n",
    "    data1 = mrc2data(mrc1)\n",
    "    data2 = mrc2data(mrc2)\n",
    "    if(operation=='add'):\n",
    "        data = data1 + data2\n",
    "    elif(operation=='subtract'):\n",
    "        data = data1 - data2\n",
    "    data2mrc(mrc_out,data,mrc_template=mrc1)\n",
    "        \n",
    "def mrc_select(mrc_filename, mode='above_value', value=0.):\n",
    "    \"\"\"mrc_select\n",
    "    \"\"\"\n",
    "    data = mrc2data(mrc_filename)\n",
    "    if(mode=='above_value'):\n",
    "        data_selected = np.where(data >  value, data, 0.0)\n",
    "    elif(mode=='equal_value'):\n",
    "        data_selected = np.where(data == value, data, 0.0)\n",
    "    else:\n",
    "        data_selected = np.where(data <  value, data, 0.0)\n",
    "    return data_selected\n",
    "        \n",
    "# routines mrc2bla or bla2mrc\n",
    "    \n",
    "def mrc2mask(mrc_filename, mask_filename, sigma_blur=0., threshold=0.1):\n",
    "    \"\"\" mrc2mask: set to 1 any non-zero value, blurs, and binarize around threshold\n",
    "    \"\"\"\n",
    "    data = mrc2data(mrc_filename)\n",
    "    mask = data2mask(data, sigma_blur=sigma_blur, threshold=threshold)\n",
    "    data2mrc(mask_filename, mask, mrc_template=mrc_filename)\n",
    "\n",
    "def seg2mask(input_seg, output_key, sigma_blur = 0., threshold=0.1):\n",
    "    \"\"\"seg2mask\n",
    "    \"\"\"\n",
    "    segments = mrc2data(input_seg)\n",
    "    domains  = np.unique(segments).astype(int)\n",
    "    if (domains.shape[0] > 1):\n",
    "        for i in domains:\n",
    "            if(i>0):\n",
    "                data_domain = mrc_select(input_seg, mode='equal_value', value=i)\n",
    "                mask = data2mask(data_domain, sigma_blur=sigma_blur, threshold=threshold)\n",
    "                data2mrc(output_key+str(i)+'.mrc', mask, mrc_template=input_seg)\n",
    "\n",
    "def seg2kept(input_seg, output_key, keep_mask):\n",
    "    \"\"\"seg2kep\n",
    "    \"\"\"\n",
    "    ikeep=0\n",
    "    segments = mrc2data(input_seg)\n",
    "    domains  = np.unique(segments).astype(int)\n",
    "    if (domains.shape[0] > 1):\n",
    "        for i in domains:\n",
    "            if(i>0):\n",
    "                if keep_mask[i-1]:\n",
    "                    ikeep += 1\n",
    "                    shutil.copy(output_key+str(i)+'.mrc',output_key+'kept_'+str(ikeep)+'.mrc')\n",
    "                os.remove(output_key+str(i)+'.mrc')\n",
    "    print(\"keeping \",ikeep,\" domains\")\n",
    "    return ikeep\n",
    "                \n",
    "def data2mask(data, sigma_blur=0., threshold=0.1):\n",
    "    \"\"\"data2mask\n",
    "    \"\"\"\n",
    "    mask = np.where(data > 0, 1.0, 0.0)\n",
    "    if(sigma_blur > 0):\n",
    "        mask = gaussian_filter(mask, sigma_blur)\n",
    "        mask = np.where(mask > threshold, 1.0 , 0.0 ) #.astype(np.int8)\n",
    "    return mask.astype(np.int8)\n",
    "    \n",
    "def mrc2data(mrc_filename):\n",
    "    \"\"\" mrc2data\n",
    "    \"\"\"\n",
    "    mrc  = mrcfile.open(mrc_filename, mode='r+')\n",
    "    data = mrc.data\n",
    "    mrc.close()\n",
    "    return data\n",
    "\n",
    "def data2mrc(mrc_filename,data,mrc_template=None):\n",
    "    \"\"\" data2mrc\n",
    "    \"\"\"\n",
    "    if mrc_template is None:\n",
    "        print(\"Please provide a .mrc template to update data from\")\n",
    "    else:\n",
    "        shutil.copy(mrc_template, mrc_filename)\n",
    "        mrc = mrcfile.open(mrc_filename, mode='r+')\n",
    "        mrc.data[:] = data\n",
    "        mrc.close()"
   ]
  },
  {
   "cell_type": "code",
   "execution_count": null,
   "metadata": {},
   "outputs": [],
   "source": []
  }
 ],
 "metadata": {
  "kernelspec": {
   "display_name": "Python 3",
   "language": "python",
   "name": "python3"
  },
  "language_info": {
   "codemirror_mode": {
    "name": "ipython",
    "version": 3
   },
   "file_extension": ".py",
   "mimetype": "text/x-python",
   "name": "python",
   "nbconvert_exporter": "python",
   "pygments_lexer": "ipython3",
   "version": "3.6.3"
  }
 },
 "nbformat": 4,
 "nbformat_minor": 2
}
